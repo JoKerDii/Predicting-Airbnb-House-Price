{
 "cells": [
  {
   "cell_type": "code",
   "execution_count": null,
   "metadata": {},
   "outputs": [],
   "source": [
    "import pickle\n",
    "\n",
    "with open(r\"pickles/model\", \"rb\") as input_file:\n",
    "    model = pickle.load(input_file)\n",
    "    \n",
    "with open(r\"pickles/scaler\", \"rb\") as input_file:\n",
    "    scaler = pickle.load(input_file)"
   ]
  },
  {
   "cell_type": "code",
   "execution_count": null,
   "metadata": {},
   "outputs": [],
   "source": [
    "import pandas as pd\n",
    "import numpy as np\n",
    "\n",
    "Combined_data = pd.read_csv('LosAngeles_2022.csv')\n",
    "Combined_data.drop(['host_id', 'id', 'host_name','name', 'last_review', 'neighbourhood',\n",
    "                    'license', 'number_of_reviews_ltm', 'price'], axis=1, inplace=True)\n",
    "# print(Combined_data.columns)\n",
    "# print(Combined_data.shape) ## 13 variables\n",
    "# print(np.array(Combined_data.loc[0]))\n",
    "new = pd.DataFrame(np.array(Combined_data.iloc[0,:])).T # 9 numbers\n",
    "# print(new)\n",
    "input = np.array(['Other Cities', 33.98301, -118.38607, 'Entire home/apt', 30, 2, 0.02, 1, 43])\n",
    "\n",
    "# categorical: ['neighbourhood_group', 'room_type'] # 2\n",
    "# numerical: ['latitude', 'longitude', 'price', 'minimum_nights', 'number_of_reviews',\n",
    "#        'reviews_per_month', 'calculated_host_listings_count',\n",
    "#        'availability_365', 'all_year_avail', 'low_avail', 'no_reviews'] # 11\n",
    "\n",
    "\n",
    "# after onehot encoding 18 variables\n",
    "# ['latitude', 'longitude', 'minimum_nights', 'number_of_reviews',\n",
    "#        'reviews_per_month', 'calculated_host_listings_count',\n",
    "#        'availability_365', 'all_year_avail', 'low_avail', 'no_reviews',\n",
    "#        'neighbourhood_group_City of Los Angeles',\n",
    "#        'neighbourhood_group_Other Cities',\n",
    "#        'neighbourhood_group_Unincorporated Areas',\n",
    "#        'neighbourhood_group_unknown', \n",
    "#        'room_type_Entire home/apt',\n",
    "#        'room_type_Hotel room', 'room_type_Private room',\n",
    "#        'room_type_Shared room']\n",
    "\n",
    "# new.info()\n",
    "\n",
    "# new['neighbourhood_group']"
   ]
  },
  {
   "cell_type": "code",
   "execution_count": null,
   "metadata": {},
   "outputs": [],
   "source": [
    "\n",
    "new.columns = ['neighbourhood_group', 'latitude', 'longitude', 'room_type',\n",
    "       'minimum_nights', 'number_of_reviews', 'reviews_per_month',\n",
    "       'calculated_host_listings_count', 'availability_365']\n",
    "\n",
    "for col in ['latitude', 'longitude', 'minimum_nights', 'number_of_reviews', 'reviews_per_month',\n",
    "       'calculated_host_listings_count', 'availability_365']:\n",
    "        new[col]=new[col].astype(np.float)\n",
    "        \n",
    "new['minimum_nights'] = np.log1p(new.loc[0,'minimum_nights'])\n",
    "\n",
    "new['all_year_avail'] = new['availability_365']>353\n",
    "new['low_avail'] = new['availability_365']< 12\n",
    "new['no_reviews'] = new['reviews_per_month']==0\n",
    "\n",
    "new['neighbourhood_group_City of Los Angeles'] = 1*(new['neighbourhood_group'] == 'City of Los Angeles')\n",
    "new['neighbourhood_group_Other Cities'] = 1*(new['neighbourhood_group'] == 'Other Cities')\n",
    "new['neighbourhood_group_Unincorporated Areas'] = 1*(new['neighbourhood_group'] == 'Unincorporated Areas')\n",
    "new['neighbourhood_group_unknown'] = 1*(new['neighbourhood_group'] == 'unknown')\n",
    "new['room_type_Entire home/apt'] = 1*(new['neighbourhood_group'] == 'Entire home/apt')\n",
    "new['room_type_Hotel room'] = 1*(new['neighbourhood_group'] == 'Hotel room')\n",
    "new['room_type_Private room'] = 1*(new['neighbourhood_group'] == 'Private room')\n",
    "new['room_type_Shared room'] = 1*(new['neighbourhood_group'] == 'Shared room')\n",
    "\n",
    "new.drop(['neighbourhood_group','room_type'], axis = 1, inplace = True)\n",
    "print(new.shape)\n",
    "print(new.columns)\n",
    "\n",
    "# ['latitude', 'longitude', 'minimum_nights', 'number_of_reviews',\n",
    "#        'reviews_per_month', 'calculated_host_listings_count',\n",
    "#        'availability_365', 'all_year_avail', 'low_avail', 'no_reviews',\n",
    "#        'neighbourhood_group_City of Los Angeles',\n",
    "#        'neighbourhood_group_Other Cities',\n",
    "#        'neighbourhood_group_Unincorporated Areas',\n",
    "#        'neighbourhood_group_unknown', 'room_type_Entire home/apt',\n",
    "#        'room_type_Hotel room', 'room_type_Private room',\n",
    "#        'room_type_Shared room']\n"
   ]
  },
  {
   "cell_type": "code",
   "execution_count": null,
   "metadata": {},
   "outputs": [],
   "source": [
    "new_scaled = scaler.transform(new)\n",
    "new_scaled"
   ]
  },
  {
   "cell_type": "code",
   "execution_count": null,
   "metadata": {},
   "outputs": [],
   "source": [
    "preds_scaled = model.predict(new_scaled)\n",
    "preds = np.exp(preds_scaled[0])\n",
    "preds"
   ]
  },
  {
   "cell_type": "code",
   "execution_count": null,
   "metadata": {},
   "outputs": [],
   "source": [
    "def pipeline(new):\n",
    "    # new = pd.DataFrame(arr).T # single entry\n",
    "    new.columns = ['neighbourhood_group', 'latitude', 'longitude', 'room_type',\n",
    "       'minimum_nights', 'number_of_reviews', 'reviews_per_month',\n",
    "       'calculated_host_listings_count', 'availability_365']\n",
    "    \n",
    "    for col in ['latitude', 'longitude', 'minimum_nights', 'number_of_reviews', 'reviews_per_month',\n",
    "       'calculated_host_listings_count', 'availability_365']:\n",
    "        new[col]=new[col].astype(np.float)\n",
    "    \n",
    "    new['minimum_nights'] = np.log1p(new.loc[0,'minimum_nights'])\n",
    "\n",
    "    new['all_year_avail'] = 1*(new['availability_365']>353)\n",
    "    new['low_avail'] = 1*(new['availability_365']< 12)\n",
    "    new['no_reviews'] = 1*(new['reviews_per_month']==0)\n",
    "\n",
    "    new['neighbourhood_group_City of Los Angeles'] = 1*(new['neighbourhood_group'] == 'City of Los Angeles')\n",
    "    new['neighbourhood_group_Other Cities'] = 1*(new['neighbourhood_group'] == 'Other Cities')\n",
    "    new['neighbourhood_group_Unincorporated Areas'] = 1*(new['neighbourhood_group'] == 'Unincorporated Areas')\n",
    "    new['neighbourhood_group_unknown'] = 1*(new['neighbourhood_group'] == 'unknown')\n",
    "    \n",
    "    new['room_type_Entire home/apt'] = 1*(new['neighbourhood_group'] == 'Entire home/apt')\n",
    "    new['room_type_Hotel room'] = 1*(new['neighbourhood_group'] == 'Hotel room')\n",
    "    new['room_type_Private room'] = 1*(new['neighbourhood_group'] == 'Private room')\n",
    "    new['room_type_Shared room'] = 1*(new['neighbourhood_group'] == 'Shared room')\n",
    "\n",
    "    new.drop(['neighbourhood_group','room_type'], axis = 1, inplace = True)\n",
    "\n",
    "    new_scaled = scaler.transform(new)\n",
    "    return new_scaled\n",
    " \n",
    "# new = pd.DataFrame(input).T\n",
    "# new.columns = ['neighbourhood_group', 'latitude', 'longitude', 'room_type',\n",
    "#        'minimum_nights', 'number_of_reviews', 'reviews_per_month',\n",
    "#        'calculated_host_listings_count', 'availability_365']\n",
    "# # new['minimum_nights'] = np.log1p(new.loc[0,'minimum_nights'])\n",
    "# new.loc[0,'minimum_nights']\n",
    "# new.info()\n",
    "\n",
    "# scaled = pipeline(input)\n",
    "# preds_scaled = model.predict(scaled)\n",
    "# preds = np.round(np.exp(preds_scaled[0]),4)\n",
    "# preds\n"
   ]
  }
 ],
 "metadata": {
  "kernelspec": {
   "display_name": "Python 3.9.4 64-bit",
   "language": "python",
   "name": "python3"
  },
  "language_info": {
   "codemirror_mode": {
    "name": "ipython",
    "version": 3
   },
   "file_extension": ".py",
   "mimetype": "text/x-python",
   "name": "python",
   "nbconvert_exporter": "python",
   "pygments_lexer": "ipython3",
   "version": "3.9.4"
  },
  "orig_nbformat": 4,
  "vscode": {
   "interpreter": {
    "hash": "aee8b7b246df8f9039afb4144a1f6fd8d2ca17a180786b69acc140d282b71a49"
   }
  }
 },
 "nbformat": 4,
 "nbformat_minor": 2
}
